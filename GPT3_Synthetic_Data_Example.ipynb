{
 "cells": [
  {
   "cell_type": "code",
   "execution_count": null,
   "id": "2e284945",
   "metadata": {},
   "outputs": [],
   "source": [
    "import openai\n",
    "import os\n",
    "import pandas\n",
    "\n",
    "openai.api_key = str(os.getenv('GPT_TOKEN'))\n",
    "\n",
    "dataset = pandas.DataFrame(columns = ['sentence', 'sentiment'])\n",
    "iterations = 400\n",
    "\n",
    "for i in range(iterations):\n",
    "    positive_response = openai.Completion.create(\n",
    "        model='text-davinci-002',\n",
    "        prompt='Write an example of a sentence with a positive sentiment. The sentence must be grammatically correct.\\n\\n',\n",
    "        temperature=1,\n",
    "        max_tokens=256,\n",
    "        frequency_penalty=0,\n",
    "        presence_penalty=0\n",
    "    )\n",
    "    negative_response = openai.Completion.create(\n",
    "        model='text-davinci-002',\n",
    "        prompt='Write an example of a sentence with a negative sentiment. The sentence must be grammatically correct.\\n\\n',\n",
    "        temperature=1,\n",
    "        max_tokens=256,\n",
    "        frequency_penalty=0,\n",
    "        presence_penalty=0\n",
    "    )\n",
    "    positive_response = {\n",
    "        'sentence' : positive_response['choices'][0]['text'].replace('\\n',''),\n",
    "        'sentiment' : 'positive'\n",
    "    }\n",
    "    negative_response = {\n",
    "        'sentence' : negative_response['choices'][0]['text'].replace('\\n',''),\n",
    "        'sentiment' : 'negative'\n",
    "    }\n",
    "    dataset = dataset.append(positive_response, ignore_index = True)\n",
    "    dataset = dataset.append(negative_response, ignore_index = True)\n",
    "    \n",
    "\n",
    "dataset.to_csv(os.path.join(os.path.curdir, 'sentiment_sentence_dataset.csv'))\n",
    "       \n",
    "               "
   ]
  },
  {
   "cell_type": "code",
   "execution_count": null,
   "id": "46ed896f",
   "metadata": {},
   "outputs": [],
   "source": [
    "from sklearn.svm import SVC\n",
    "from sklearn.feature_extraction.text import TfidfVectorizer\n",
    "from sklearn.preprocessing import LabelEncoder\n",
    "from sklearn.svm import SVC\n",
    "from sklearn.model_selection import train_test_split\n",
    "from sklearn.metrics import accuracy_score, confusion_matrix\n",
    "\n",
    "dataset = pandas.read_csv('sentiment_sentence_dataset.csv', index_col = 0)\n",
    "\n",
    "dataset['sentiment'] = LabelEncoder().fit_transform(dataset['sentiment'])\n",
    "\n",
    "X = TfidfVectorizer().fit_transform(dataset['sentence'])\n",
    "y = dataset['sentiment']\n",
    "\n",
    "train_x, test_x, train_y, test_y = train_test_split(X, y, test_size = 0.2, random_state = 42)\n",
    "\n",
    "classifier = SVC()\n",
    "classifier.fit(train_x, train_y)\n",
    "\n",
    "predictions = classifier.predict(test_x)\n",
    "\n",
    "print(confusion_matrix(test_y, predictions))"
   ]
  },
  {
   "cell_type": "code",
   "execution_count": null,
   "id": "31e4cb56",
   "metadata": {},
   "outputs": [],
   "source": []
  }
 ],
 "metadata": {
  "kernelspec": {
   "display_name": "Python 3 (ipykernel)",
   "language": "python",
   "name": "python3"
  },
  "language_info": {
   "codemirror_mode": {
    "name": "ipython",
    "version": 3
   },
   "file_extension": ".py",
   "mimetype": "text/x-python",
   "name": "python",
   "nbconvert_exporter": "python",
   "pygments_lexer": "ipython3",
   "version": "3.9.12"
  }
 },
 "nbformat": 4,
 "nbformat_minor": 5
}
